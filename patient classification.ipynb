{
 "cells": [
  {
   "cell_type": "code",
   "execution_count": 57,
   "metadata": {},
   "outputs": [],
   "source": [
    "import pandas as pd\n",
    "import numpy as np\n",
    "from sklearn.model_selection import KFold\n",
    "from sklearn.linear_model import LogisticRegression\n",
    "import seaborn as sns\n",
    "import matplotlib.pyplot as plt \n",
    "from sklearn.linear_model import LinearRegression\n",
    "from sklearn.model_selection import train_test_split\n",
    "from sklearn.ensemble import RandomForestClassifier\n",
    "from sklearn.model_selection import GridSearchCV\n",
    "from sklearn.ensemble import AdaBoostClassifier\n",
    "from sklearn.tree import DecisionTreeClassifier\n",
    "import sklearn\n",
    "import tensorflow as tf\n",
    "from sklearn import preprocessing\n",
    "from sklearn.metrics import confusion_matrix\n",
    "import seaborn as sns\n",
    "from sklearn.metrics import f1_score, roc_curve, auc, precision_recall_curve\n",
    "\n",
    "\n",
    "import warnings\n",
    "warnings.filterwarnings(\"ignore\")\n",
    "\n",
    "plt.rc(\"font\", size=14)"
   ]
  },
  {
   "cell_type": "code",
   "execution_count": 2,
   "metadata": {},
   "outputs": [
    {
     "data": {
      "text/html": [
       "<div>\n",
       "<style scoped>\n",
       "    .dataframe tbody tr th:only-of-type {\n",
       "        vertical-align: middle;\n",
       "    }\n",
       "\n",
       "    .dataframe tbody tr th {\n",
       "        vertical-align: top;\n",
       "    }\n",
       "\n",
       "    .dataframe thead th {\n",
       "        text-align: right;\n",
       "    }\n",
       "</style>\n",
       "<table border=\"1\" class=\"dataframe\">\n",
       "  <thead>\n",
       "    <tr style=\"text-align: right;\">\n",
       "      <th></th>\n",
       "      <th>age_at_rf_r1_dx</th>\n",
       "      <th>patient_gender</th>\n",
       "      <th>current_severity</th>\n",
       "      <th>severity_at_HZD_dx</th>\n",
       "      <th>age_current</th>\n",
       "      <th>HZD_dx_age</th>\n",
       "      <th>has_had_surgery</th>\n",
       "      <th>rf_r1_present</th>\n",
       "      <th>rf_r2_present</th>\n",
       "      <th>rf_r3_present</th>\n",
       "      <th>...</th>\n",
       "      <th>previously_tried_px4</th>\n",
       "      <th>previously_tried_px5</th>\n",
       "      <th>previously_tried_px6</th>\n",
       "      <th>previously_tried_px7</th>\n",
       "      <th>previously_tried_px8</th>\n",
       "      <th>previously_tried_px9</th>\n",
       "      <th>previously_tried_px10</th>\n",
       "      <th>previously_tried_px11</th>\n",
       "      <th>previously_tried_px12</th>\n",
       "      <th>recommend_Product_X</th>\n",
       "    </tr>\n",
       "    <tr>\n",
       "      <th>patientID</th>\n",
       "      <th></th>\n",
       "      <th></th>\n",
       "      <th></th>\n",
       "      <th></th>\n",
       "      <th></th>\n",
       "      <th></th>\n",
       "      <th></th>\n",
       "      <th></th>\n",
       "      <th></th>\n",
       "      <th></th>\n",
       "      <th></th>\n",
       "      <th></th>\n",
       "      <th></th>\n",
       "      <th></th>\n",
       "      <th></th>\n",
       "      <th></th>\n",
       "      <th></th>\n",
       "      <th></th>\n",
       "      <th></th>\n",
       "      <th></th>\n",
       "      <th></th>\n",
       "    </tr>\n",
       "  </thead>\n",
       "  <tbody>\n",
       "    <tr>\n",
       "      <th>0</th>\n",
       "      <td>NaN</td>\n",
       "      <td>F</td>\n",
       "      <td>Moderate</td>\n",
       "      <td>Moderate</td>\n",
       "      <td>65</td>\n",
       "      <td>55</td>\n",
       "      <td>0</td>\n",
       "      <td>0</td>\n",
       "      <td>0</td>\n",
       "      <td>0</td>\n",
       "      <td>...</td>\n",
       "      <td>0.0</td>\n",
       "      <td>0.0</td>\n",
       "      <td>0.0</td>\n",
       "      <td>0.0</td>\n",
       "      <td>0.0</td>\n",
       "      <td>0.0</td>\n",
       "      <td>0.0</td>\n",
       "      <td>0.0</td>\n",
       "      <td>0.0</td>\n",
       "      <td>0</td>\n",
       "    </tr>\n",
       "    <tr>\n",
       "      <th>1</th>\n",
       "      <td>NaN</td>\n",
       "      <td>F</td>\n",
       "      <td>Moderate</td>\n",
       "      <td>Moderate</td>\n",
       "      <td>45</td>\n",
       "      <td>35</td>\n",
       "      <td>0</td>\n",
       "      <td>0</td>\n",
       "      <td>0</td>\n",
       "      <td>0</td>\n",
       "      <td>...</td>\n",
       "      <td>NaN</td>\n",
       "      <td>NaN</td>\n",
       "      <td>NaN</td>\n",
       "      <td>NaN</td>\n",
       "      <td>NaN</td>\n",
       "      <td>NaN</td>\n",
       "      <td>NaN</td>\n",
       "      <td>NaN</td>\n",
       "      <td>NaN</td>\n",
       "      <td>0</td>\n",
       "    </tr>\n",
       "    <tr>\n",
       "      <th>2</th>\n",
       "      <td>NaN</td>\n",
       "      <td>F</td>\n",
       "      <td>Moderate</td>\n",
       "      <td>Moderate</td>\n",
       "      <td>68</td>\n",
       "      <td>64</td>\n",
       "      <td>0</td>\n",
       "      <td>1</td>\n",
       "      <td>0</td>\n",
       "      <td>1</td>\n",
       "      <td>...</td>\n",
       "      <td>0.0</td>\n",
       "      <td>1.0</td>\n",
       "      <td>0.0</td>\n",
       "      <td>0.0</td>\n",
       "      <td>1.0</td>\n",
       "      <td>0.0</td>\n",
       "      <td>0.0</td>\n",
       "      <td>0.0</td>\n",
       "      <td>0.0</td>\n",
       "      <td>1</td>\n",
       "    </tr>\n",
       "    <tr>\n",
       "      <th>3</th>\n",
       "      <td>NaN</td>\n",
       "      <td>F</td>\n",
       "      <td>Moderate</td>\n",
       "      <td>Mild</td>\n",
       "      <td>41</td>\n",
       "      <td>35</td>\n",
       "      <td>0</td>\n",
       "      <td>0</td>\n",
       "      <td>0</td>\n",
       "      <td>0</td>\n",
       "      <td>...</td>\n",
       "      <td>0.0</td>\n",
       "      <td>0.0</td>\n",
       "      <td>0.0</td>\n",
       "      <td>0.0</td>\n",
       "      <td>0.0</td>\n",
       "      <td>0.0</td>\n",
       "      <td>0.0</td>\n",
       "      <td>0.0</td>\n",
       "      <td>0.0</td>\n",
       "      <td>0</td>\n",
       "    </tr>\n",
       "    <tr>\n",
       "      <th>4</th>\n",
       "      <td>71.0</td>\n",
       "      <td>M</td>\n",
       "      <td>Severe</td>\n",
       "      <td>Severe</td>\n",
       "      <td>74</td>\n",
       "      <td>72</td>\n",
       "      <td>0</td>\n",
       "      <td>1</td>\n",
       "      <td>0</td>\n",
       "      <td>0</td>\n",
       "      <td>...</td>\n",
       "      <td>0.0</td>\n",
       "      <td>0.0</td>\n",
       "      <td>1.0</td>\n",
       "      <td>0.0</td>\n",
       "      <td>0.0</td>\n",
       "      <td>0.0</td>\n",
       "      <td>0.0</td>\n",
       "      <td>0.0</td>\n",
       "      <td>0.0</td>\n",
       "      <td>1</td>\n",
       "    </tr>\n",
       "  </tbody>\n",
       "</table>\n",
       "<p>5 rows × 83 columns</p>\n",
       "</div>"
      ],
      "text/plain": [
       "           age_at_rf_r1_dx patient_gender current_severity severity_at_HZD_dx  \\\n",
       "patientID                                                                       \n",
       "0                      NaN              F         Moderate           Moderate   \n",
       "1                      NaN              F         Moderate           Moderate   \n",
       "2                      NaN              F         Moderate           Moderate   \n",
       "3                      NaN              F         Moderate               Mild   \n",
       "4                     71.0              M           Severe             Severe   \n",
       "\n",
       "           age_current  HZD_dx_age  has_had_surgery  rf_r1_present  \\\n",
       "patientID                                                            \n",
       "0                   65          55                0              0   \n",
       "1                   45          35                0              0   \n",
       "2                   68          64                0              1   \n",
       "3                   41          35                0              0   \n",
       "4                   74          72                0              1   \n",
       "\n",
       "           rf_r2_present  rf_r3_present  ...  previously_tried_px4  \\\n",
       "patientID                                ...                         \n",
       "0                      0              0  ...                   0.0   \n",
       "1                      0              0  ...                   NaN   \n",
       "2                      0              1  ...                   0.0   \n",
       "3                      0              0  ...                   0.0   \n",
       "4                      0              0  ...                   0.0   \n",
       "\n",
       "           previously_tried_px5  previously_tried_px6  previously_tried_px7  \\\n",
       "patientID                                                                     \n",
       "0                           0.0                   0.0                   0.0   \n",
       "1                           NaN                   NaN                   NaN   \n",
       "2                           1.0                   0.0                   0.0   \n",
       "3                           0.0                   0.0                   0.0   \n",
       "4                           0.0                   1.0                   0.0   \n",
       "\n",
       "           previously_tried_px8  previously_tried_px9  previously_tried_px10  \\\n",
       "patientID                                                                      \n",
       "0                           0.0                   0.0                    0.0   \n",
       "1                           NaN                   NaN                    NaN   \n",
       "2                           1.0                   0.0                    0.0   \n",
       "3                           0.0                   0.0                    0.0   \n",
       "4                           0.0                   0.0                    0.0   \n",
       "\n",
       "           previously_tried_px11  previously_tried_px12  recommend_Product_X  \n",
       "patientID                                                                     \n",
       "0                            0.0                    0.0                    0  \n",
       "1                            NaN                    NaN                    0  \n",
       "2                            0.0                    0.0                    1  \n",
       "3                            0.0                    0.0                    0  \n",
       "4                            0.0                    0.0                    1  \n",
       "\n",
       "[5 rows x 83 columns]"
      ]
     },
     "execution_count": 2,
     "metadata": {},
     "output_type": "execute_result"
    }
   ],
   "source": [
    "data_raw = pd.read_excel('HZNP_DataScience_Exercise.xlsx',sheet_name = 1)\n",
    "data_raw.set_index('patientID',inplace = True)\n",
    "data_raw.head()"
   ]
  },
  {
   "cell_type": "code",
   "execution_count": 3,
   "metadata": {},
   "outputs": [],
   "source": [
    "#change data type\n",
    "col_names = list(data_raw)\n",
    "col_name_num = [\"age_at_rf_r1_dx\",\"age_current\",\"HZD_dx_age\"] #+data_raw.columns[pd.Series(data_raw.columns).str.startswith('rf_r')].values.tolist()+[\"px_count_for_HZD_tried\",\"recommend_Product_X\"]\n",
    "col_name_cat = list(set(col_names)-set(col_name_num))\n",
    "\n",
    "for col in col_name_cat:\n",
    "    data_raw[col] = data_raw[col].astype('object',copy=False)"
   ]
  },
  {
   "cell_type": "code",
   "execution_count": 4,
   "metadata": {},
   "outputs": [],
   "source": [
    "feature_data = data_raw.drop('recommend_Product_X', 1)\n",
    "response_data = data_raw.recommend_Product_X"
   ]
  },
  {
   "cell_type": "code",
   "execution_count": 5,
   "metadata": {},
   "outputs": [],
   "source": [
    "# imputation categorical\n",
    "categorical_feature = feature_data.select_dtypes(include=['object'])\n",
    "categorical_feature = categorical_feature.fillna('missing')\n",
    "categorical_feature = pd.get_dummies(categorical_feature)"
   ]
  },
  {
   "cell_type": "code",
   "execution_count": 6,
   "metadata": {},
   "outputs": [],
   "source": [
    "#imputation numerical\n",
    "numerical_feature = feature_data.select_dtypes(include=[np.number])\n",
    "#numerical_feature = numerical_feature.fillna(numerical_feature.median())\n",
    "#numerical_feature.iloc[:,:] = pd.DataFrame(preprocessing.scale(numerical_feature.iloc[:,:])).values"
   ]
  },
  {
   "cell_type": "code",
   "execution_count": 7,
   "metadata": {
    "scrolled": true
   },
   "outputs": [
    {
     "data": {
      "text/plain": [
       "age_at_rf_r1_dx    531\n",
       "age_current          0\n",
       "HZD_dx_age           0\n",
       "dtype: int64"
      ]
     },
     "execution_count": 7,
     "metadata": {},
     "output_type": "execute_result"
    }
   ],
   "source": [
    "#necessarity of imputation for age_at_rf_r1_dx\n",
    "numerical_feature.isnull().sum()"
   ]
  },
  {
   "cell_type": "code",
   "execution_count": 8,
   "metadata": {
    "scrolled": false
   },
   "outputs": [
    {
     "data": {
      "text/plain": [
       "<matplotlib.axes._subplots.AxesSubplot at 0x1c84bffa630>"
      ]
     },
     "execution_count": 8,
     "metadata": {},
     "output_type": "execute_result"
    },
    {
     "data": {
      "image/png": "[encoded data removed]",
      "text/plain": [
       "<Figure size 2304x720 with 2 Axes>"
      ]
     },
     "metadata": {
      "needs_background": "light"
     },
     "output_type": "display_data"
    }
   ],
   "source": [
    "colormap = plt.cm.RdBu\n",
    "plt.figure(figsize=(32,10))\n",
    "plt.title('Age Correlation of Features', y=1.05, size=15)\n",
    "sns.heatmap(data_raw.corr(),linewidths=0.1,vmax=1.0, \n",
    "            square=True, cmap=colormap, linecolor='white', annot=True)\n",
    "# Note that the categorical features have been neglected in the\n",
    "# correlation matrix."
   ]
  },
  {
   "cell_type": "code",
   "execution_count": 9,
   "metadata": {},
   "outputs": [],
   "source": [
    "#imputation for age_at_rf_r1_dx \n",
    "linreg = LinearRegression()\n",
    "x_train = numerical_feature[numerical_feature['age_at_rf_r1_dx'].notnull()].drop(columns='age_at_rf_r1_dx')\n",
    "y_train = numerical_feature[numerical_feature['age_at_rf_r1_dx'].notnull()]['age_at_rf_r1_dx']\n",
    "x_test = numerical_feature[numerical_feature['age_at_rf_r1_dx'].isnull()].drop(columns='age_at_rf_r1_dx')\n",
    "y_test = numerical_feature[numerical_feature['age_at_rf_r1_dx'].isnull()]['age_at_rf_r1_dx']\n",
    "linreg.fit(x_train, y_train)\n",
    "predicted = linreg.predict(x_test)\n",
    "numerical_feature.age_at_rf_r1_dx[numerical_feature.age_at_rf_r1_dx.isnull()] = predicted"
   ]
  },
  {
   "cell_type": "code",
   "execution_count": 10,
   "metadata": {},
   "outputs": [],
   "source": [
    "feature_data_final = pd.concat([numerical_feature, categorical_feature], axis=1)"
   ]
  },
  {
   "cell_type": "code",
   "execution_count": 11,
   "metadata": {},
   "outputs": [],
   "source": [
    "#test and train split\n",
    "X_train, X_test, y_train, y_test = train_test_split(feature_data_final, response_data, test_size=0.22, random_state=4)\n",
    "y_train = list(y_train)\n",
    "y_test = list(y_test)"
   ]
  },
  {
   "cell_type": "code",
   "execution_count": 12,
   "metadata": {},
   "outputs": [],
   "source": [
    "# randome forest\n",
    "parameters = {'max_depth':[10,30,50,100],'max_features':[30,50,80,114],'criterion':('gini','entropy')}\n",
    "rdmfrst_model = RandomForestClassifier(random_state=0,n_estimators=100)\n",
    "clf0 = GridSearchCV(rdmfrst_model, parameters, cv=5,refit=True)\n",
    "rdmfrst_model_final = clf0.fit(X_train, y_train).best_estimator_  "
   ]
  },
  {
   "cell_type": "code",
   "execution_count": 13,
   "metadata": {
    "scrolled": true
   },
   "outputs": [
    {
     "data": {
      "text/plain": [
       "{'criterion': 'gini', 'max_depth': 30, 'max_features': 50}"
      ]
     },
     "execution_count": 13,
     "metadata": {},
     "output_type": "execute_result"
    }
   ],
   "source": [
    "clf0.best_params_"
   ]
  },
  {
   "cell_type": "code",
   "execution_count": 14,
   "metadata": {},
   "outputs": [
    {
     "data": {
      "text/plain": [
       "0.8241678726483358"
      ]
     },
     "execution_count": 14,
     "metadata": {},
     "output_type": "execute_result"
    }
   ],
   "source": [
    "# accurancy on training\n",
    "clf0.best_score_ "
   ]
  },
  {
   "cell_type": "code",
   "execution_count": 15,
   "metadata": {
    "scrolled": true
   },
   "outputs": [
    {
     "data": {
      "text/plain": [
       "0.8005115089514067"
      ]
     },
     "execution_count": 15,
     "metadata": {},
     "output_type": "execute_result"
    }
   ],
   "source": [
    "#accurancy on test\n",
    "rdmfrst_model_final.score(X_test,y_test)"
   ]
  },
  {
   "cell_type": "code",
   "execution_count": 56,
   "metadata": {
    "scrolled": true
   },
   "outputs": [
    {
     "data": {
      "image/png": "[encoded data removed]",
      "text/plain": [
       "<Figure size 432x288 with 1 Axes>"
      ]
     },
     "metadata": {
      "needs_background": "light"
     },
     "output_type": "display_data"
    }
   ],
   "source": [
    "ax = sns.heatmap(confusion_matrix(y_test, y_pred_rdmfrst), annot = True, fmt='d', cbar = False, cmap=plt.cm.Purples)\n",
    "ax.set(xlabel = \"predicted\", \n",
    "       title = \"Confusion Matrix-Random Forest\")\n",
    "plt.setp(ax.get_yticklabels(), rotation=0)\n",
    "plt.show()"
   ]
  },
  {
   "cell_type": "code",
   "execution_count": 70,
   "metadata": {
    "scrolled": true
   },
   "outputs": [
    {
     "data": {
      "image/png": "[encoded data removed]",
      "text/plain": [
       "<Figure size 1440x432 with 2 Axes>"
      ]
     },
     "metadata": {
      "needs_background": "light"
     },
     "output_type": "display_data"
    }
   ],
   "source": [
    "y_pred_prob = clf0.predict_proba(X_test)[:,1]\n",
    "roc_x, roc_y, _ = roc_curve(y_test, y_pred_prob)\n",
    "precision, recall, _ = precision_recall_curve(y_test, y_pred_prob)\n",
    "AUC = auc(roc_x, roc_y)\n",
    "    \n",
    "plt.figure(figsize=(20,6))\n",
    "plt.subplot(1,2,1)\n",
    "plt.plot(roc_x, roc_y)\n",
    "plt.xlabel('False Positive Rate')\n",
    "plt.ylabel('True Positive Rate')\n",
    "plt.title('ROC for Random Forest')\n",
    "    \n",
    "plt.subplot(1,2,2)\n",
    "plt.plot(recall, precision)\n",
    "plt.xlabel('Recall')\n",
    "plt.ylabel('Precision')\n",
    "plt.title('PR Curve for recommendation')\n",
    "plt.title('PR Curve for Random Forest')\n",
    "    \n",
    "plt.show()"
   ]
  },
  {
   "cell_type": "code",
   "execution_count": 72,
   "metadata": {},
   "outputs": [
    {
     "data": {
      "text/plain": [
       "0.7310344827586208"
      ]
     },
     "execution_count": 72,
     "metadata": {},
     "output_type": "execute_result"
    }
   ],
   "source": [
    "f1_score(y_test, clf0.predict(X_test))  "
   ]
  },
  {
   "cell_type": "markdown",
   "metadata": {},
   "source": [
    "Adaboost "
   ]
  },
  {
   "cell_type": "code",
   "execution_count": 47,
   "metadata": {
    "scrolled": false
   },
   "outputs": [
    {
     "name": "stdout",
     "output_type": "stream",
     "text": [
      "0.7510853835021708 0.7493606138107417\n",
      "0.8386396526772794 0.8695652173913043\n",
      "0.8379160636758322 0.8542199488491049\n",
      "0.8241678726483358 0.8388746803069054\n",
      "0.8205499276410999 0.8132992327365729\n"
     ]
    }
   ],
   "source": [
    "# AdaBoostClassifier\n",
    "learning_rate_tuning = [5,1,0.5,0.1,0.05]\n",
    "n_estimators_tuning = [100,500,1000,5000,10000]\n",
    "model_collection = []\n",
    "for eta_rate,iteration_n in zip(learning_rate_tuning, n_estimators_tuning):\n",
    "    parameters = {'learning_rate':[eval('eta_rate')],'n_estimators':[eval('iteration_n')],'base_estimator__max_depth': [10, 30, 50, 100]}\n",
    "    adaboost_model = AdaBoostClassifier(DecisionTreeClassifier(random_state=0,max_depth=30,criterion='gini',max_features=50))\n",
    "    clf1 = GridSearchCV(adaboost_model, parameters, cv=5,refit=True)\n",
    "    clf1_fit = clf1.fit(X_train, y_train).best_estimator_ \n",
    "    model_collection.append(clf1)\n",
    "    print(clf1.best_score_,clf1.score(X_test,y_test))"
   ]
  },
  {
   "cell_type": "code",
   "execution_count": 73,
   "metadata": {
    "scrolled": true
   },
   "outputs": [
    {
     "data": {
      "text/plain": [
       "0.8327868852459017"
      ]
     },
     "execution_count": 73,
     "metadata": {},
     "output_type": "execute_result"
    }
   ],
   "source": [
    "f1_score(y_test, model_collection[1].predict(X_test))  "
   ]
  },
  {
   "cell_type": "code",
   "execution_count": 74,
   "metadata": {
    "scrolled": true
   },
   "outputs": [
    {
     "data": {
      "text/plain": [
       "{'base_estimator__max_depth': 10, 'learning_rate': 1, 'n_estimators': 500}"
      ]
     },
     "execution_count": 74,
     "metadata": {},
     "output_type": "execute_result"
    }
   ],
   "source": [
    "best_ada = model_collection[1].best_params_"
   ]
  },
  {
   "cell_type": "code",
   "execution_count": 75,
   "metadata": {},
   "outputs": [
    {
     "data": {
      "image/png": "[encoded data removed]",
      "text/plain": [
       "<Figure size 1440x432 with 2 Axes>"
      ]
     },
     "metadata": {
      "needs_background": "light"
     },
     "output_type": "display_data"
    }
   ],
   "source": [
    "y_pred_prob = model_collection[1].predict_proba(X_test)[:,1]\n",
    "roc_x, roc_y, _ = roc_curve(y_test, y_pred_prob)\n",
    "precision, recall, _ = precision_recall_curve(y_test, y_pred_prob)\n",
    "AUC = auc(roc_x, roc_y)\n",
    "    \n",
    "plt.figure(figsize=(20,6))\n",
    "plt.subplot(1,2,1)\n",
    "plt.plot(roc_x, roc_y)\n",
    "plt.xlabel('False Positive Rate')\n",
    "plt.ylabel('True Positive Rate')\n",
    "plt.title('ROC for Adaboost')\n",
    "    \n",
    "plt.subplot(1,2,2)\n",
    "plt.plot(recall, precision)\n",
    "plt.xlabel('Recall')\n",
    "plt.ylabel('Precision')\n",
    "plt.title('PR Curve for recommendation')\n",
    "plt.title('PR Curve for Adaboost')\n",
    "    \n",
    "plt.show()"
   ]
  }
 ],
 "metadata": {
  "kernelspec": {
   "display_name": "Python 3",
   "language": "python",
   "name": "python3"
  },
  "language_info": {
   "codemirror_mode": {
    "name": "ipython",
    "version": 3
   },
   "file_extension": ".py",
   "mimetype": "text/x-python",
   "name": "python",
   "nbconvert_exporter": "python",
   "pygments_lexer": "ipython3",
   "version": "3.7.6"
  }
 },
 "nbformat": 4,
 "nbformat_minor": 2
}
